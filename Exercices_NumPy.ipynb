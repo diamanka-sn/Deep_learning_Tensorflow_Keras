{
  "nbformat": 4,
  "nbformat_minor": 0,
  "metadata": {
    "colab": {
      "provenance": [],
      "toc_visible": true
    },
    "kernelspec": {
      "display_name": "Python 3",
      "language": "python",
      "name": "python3"
    },
    "language_info": {
      "codemirror_mode": {
        "name": "ipython",
        "version": 3
      },
      "file_extension": ".py",
      "mimetype": "text/x-python",
      "name": "python",
      "nbconvert_exporter": "python",
      "pygments_lexer": "ipython3",
      "version": "3.7.6"
    }
  },
  "cells": [
    {
      "cell_type": "markdown",
      "source": [
        "<a href='http://moncoachdata.com'><img src= 'https://moncoachdata.com/wp-content/uploads/MonCoachData-cours/MonCoachData.jpg' width=400/></a>\n",
        "\n",
        "\n",
        "---\n",
        "\n",
        "\n",
        "\n",
        "<center><em>Pour plus d'informations, visitez notre site <a href='http://moncoachdata.com'>moncoachdata.com</a></em></center>\n",
        "<center><em>et rejoignez-nous sur <a href='https://app.moncoachdata.com/discord'>Discord</a> et <a href='https://app.moncoachdata.com/youtube'>YouTube</a></em></center>\n",
        "\n",
        "\n",
        "\n",
        "---"
      ],
      "metadata": {
        "id": "b-jJXdhDNVjH"
      }
    },
    {
      "cell_type": "markdown",
      "metadata": {
        "id": "dT1H2_HqIKCr"
      },
      "source": [
        "# Exercices NumPy\n",
        "\n",
        "Maintenant que vous avez appris les bases de NumPy, testez vos connaissances. Vous commencerez par quelques tâches simples, puis vous aurez des questions plus complexes.\n",
        "\n",
        "<div class=\"alert alert-danger\" style=\"margin : 10px\"><strong>NOTE IMPORTANTE !</strong> Assurez-vous de ne pas exécuter les cellules directement au-dessus des résultats pour ne pas les effacer !</div>"
      ]
    },
    {
      "cell_type": "markdown",
      "metadata": {
        "id": "upd0myfTJBto"
      },
      "source": [
        "#### 1. Importer NumPy"
      ]
    },
    {
      "cell_type": "code",
      "metadata": {
        "id": "rzFRzA-zI-ia"
      },
      "source": [
        "import numpy as np"
      ],
      "execution_count": null,
      "outputs": []
    },
    {
      "cell_type": "markdown",
      "metadata": {
        "id": "bwyc-bXPJR6G"
      },
      "source": [
        "#### 2. Créer un tableau de 10 zéros\n"
      ]
    },
    {
      "cell_type": "code",
      "metadata": {
        "id": "GirprPWrJW9_",
        "colab": {
          "base_uri": "https://localhost:8080/"
        },
        "outputId": "eeabc97b-62a6-45ab-b7b2-f29195590e81"
      },
      "source": [
        "# Code ici\n",
        "arr = np.zeros(10)\n",
        "arr"
      ],
      "execution_count": null,
      "outputs": [
        {
          "output_type": "execute_result",
          "data": {
            "text/plain": [
              "array([0., 0., 0., 0., 0., 0., 0., 0., 0., 0.])"
            ]
          },
          "metadata": {},
          "execution_count": 4
        }
      ]
    },
    {
      "cell_type": "code",
      "metadata": {
        "id": "50kQeNRRJa73",
        "colab": {
          "base_uri": "https://localhost:8080/",
          "height": 35
        },
        "outputId": "9b3b06d9-5a16-4093-a149-abb1fb813e1c"
      },
      "source": [
        "# Ne rien écrire ici"
      ],
      "execution_count": null,
      "outputs": [
        {
          "output_type": "execute_result",
          "data": {
            "text/plain": [
              "array([0., 0., 0., 0., 0., 0., 0., 0., 0., 0.])"
            ]
          },
          "metadata": {
            "tags": []
          },
          "execution_count": 5
        }
      ]
    },
    {
      "cell_type": "markdown",
      "metadata": {
        "id": "GfwO27FnJktJ"
      },
      "source": [
        "#### 3. Créer un tableau contenant 10 uns"
      ]
    },
    {
      "cell_type": "code",
      "metadata": {
        "id": "xzGnMhdsJonk",
        "colab": {
          "base_uri": "https://localhost:8080/"
        },
        "outputId": "22049595-fc17-4925-d340-1e0783515081"
      },
      "source": [
        "# Code ici\n",
        "arr = np.ones(10)\n",
        "arr"
      ],
      "execution_count": null,
      "outputs": [
        {
          "output_type": "execute_result",
          "data": {
            "text/plain": [
              "array([1., 1., 1., 1., 1., 1., 1., 1., 1., 1.])"
            ]
          },
          "metadata": {},
          "execution_count": 5
        }
      ]
    },
    {
      "cell_type": "code",
      "metadata": {
        "id": "Z7CizJQ3Jt3N",
        "colab": {
          "base_uri": "https://localhost:8080/",
          "height": 34
        },
        "outputId": "17898e4a-e229-4e3c-eb84-dd97c0966ae7"
      },
      "source": [
        "# Ne rien écrire ici"
      ],
      "execution_count": null,
      "outputs": [
        {
          "output_type": "execute_result",
          "data": {
            "text/plain": [
              "array([1., 1., 1., 1., 1., 1., 1., 1., 1., 1.])"
            ]
          },
          "metadata": {
            "tags": []
          },
          "execution_count": 5
        }
      ]
    },
    {
      "cell_type": "markdown",
      "metadata": {
        "id": "HE6Brk0mKPLe"
      },
      "source": [
        "#### 4. Créer un tableau de 10 cinq"
      ]
    },
    {
      "cell_type": "code",
      "metadata": {
        "id": "2LnDRGYxKTBr",
        "colab": {
          "base_uri": "https://localhost:8080/"
        },
        "outputId": "9f9a8e23-c981-4092-f385-edd991500868"
      },
      "source": [
        "# Code ici\n",
        "np.ones(10) * 5"
      ],
      "execution_count": null,
      "outputs": [
        {
          "output_type": "execute_result",
          "data": {
            "text/plain": [
              "array([5., 5., 5., 5., 5., 5., 5., 5., 5., 5.])"
            ]
          },
          "metadata": {},
          "execution_count": 6
        }
      ]
    },
    {
      "cell_type": "code",
      "metadata": {
        "id": "M-6i_FH1K49K",
        "colab": {
          "base_uri": "https://localhost:8080/",
          "height": 34
        },
        "outputId": "069d65d4-a45e-4cf2-b48a-b573865c58e5"
      },
      "source": [
        "# Ne rien écrire ici"
      ],
      "execution_count": null,
      "outputs": [
        {
          "output_type": "execute_result",
          "data": {
            "text/plain": [
              "array([5., 5., 5., 5., 5., 5., 5., 5., 5., 5.])"
            ]
          },
          "metadata": {
            "tags": []
          },
          "execution_count": 7
        }
      ]
    },
    {
      "cell_type": "markdown",
      "metadata": {
        "id": "T-uoDr7RK5IM"
      },
      "source": [
        "#### 5. Créer un tableau d'entiers de 10 à 50"
      ]
    },
    {
      "cell_type": "code",
      "metadata": {
        "id": "d0cDZpvnK9Ne",
        "colab": {
          "base_uri": "https://localhost:8080/"
        },
        "outputId": "d2d630e6-3ad8-4a69-aa8b-e58e0d78dcc7"
      },
      "source": [
        "# Code ici\n",
        "np.arange(10,51)"
      ],
      "execution_count": null,
      "outputs": [
        {
          "output_type": "execute_result",
          "data": {
            "text/plain": [
              "array([10, 11, 12, 13, 14, 15, 16, 17, 18, 19, 20, 21, 22, 23, 24, 25, 26,\n",
              "       27, 28, 29, 30, 31, 32, 33, 34, 35, 36, 37, 38, 39, 40, 41, 42, 43,\n",
              "       44, 45, 46, 47, 48, 49, 50])"
            ]
          },
          "metadata": {},
          "execution_count": 7
        }
      ]
    },
    {
      "cell_type": "code",
      "metadata": {
        "id": "lyW4rns5K9-R",
        "colab": {
          "base_uri": "https://localhost:8080/",
          "height": 70
        },
        "outputId": "a9c41501-d5fe-4878-a067-3ef02e97186e"
      },
      "source": [
        "# Ne rien écrire ici"
      ],
      "execution_count": null,
      "outputs": [
        {
          "output_type": "execute_result",
          "data": {
            "text/plain": [
              "array([10, 11, 12, 13, 14, 15, 16, 17, 18, 19, 20, 21, 22, 23, 24, 25, 26,\n",
              "       27, 28, 29, 30, 31, 32, 33, 34, 35, 36, 37, 38, 39, 40, 41, 42, 43,\n",
              "       44, 45, 46, 47, 48, 49, 50])"
            ]
          },
          "metadata": {
            "tags": []
          },
          "execution_count": 9
        }
      ]
    },
    {
      "cell_type": "markdown",
      "metadata": {
        "id": "dc2bkAvzK-Hn"
      },
      "source": [
        "#### 6. Créer un tableau de tous les entiers pairs de 10 à 50"
      ]
    },
    {
      "cell_type": "code",
      "metadata": {
        "id": "vU5as2M_LBxt",
        "colab": {
          "base_uri": "https://localhost:8080/"
        },
        "outputId": "543f0dbc-6394-43da-c6b1-f3c4ea659329"
      },
      "source": [
        "np.arange(10,51,2)"
      ],
      "execution_count": null,
      "outputs": [
        {
          "output_type": "execute_result",
          "data": {
            "text/plain": [
              "array([10, 12, 14, 16, 18, 20, 22, 24, 26, 28, 30, 32, 34, 36, 38, 40, 42,\n",
              "       44, 46, 48, 50])"
            ]
          },
          "metadata": {},
          "execution_count": 40
        }
      ]
    },
    {
      "cell_type": "code",
      "metadata": {
        "id": "sWfZzNdxLCbw",
        "colab": {
          "base_uri": "https://localhost:8080/",
          "height": 52
        },
        "outputId": "d61a1151-ea85-4a2f-9660-11464d0ed4c1"
      },
      "source": [
        "# Ne rien écrire ici"
      ],
      "execution_count": null,
      "outputs": [
        {
          "output_type": "execute_result",
          "data": {
            "text/plain": [
              "array([10, 12, 14, 16, 18, 20, 22, 24, 26, 28, 30, 32, 34, 36, 38, 40, 42,\n",
              "       44, 46, 48, 50])"
            ]
          },
          "metadata": {
            "tags": []
          },
          "execution_count": 11
        }
      ]
    },
    {
      "cell_type": "markdown",
      "metadata": {
        "id": "3Xp-ij4pLClc"
      },
      "source": [
        "#### 7. Créer une matrice 3x3 avec des valeurs allant de 0 à 8"
      ]
    },
    {
      "cell_type": "code",
      "metadata": {
        "id": "of6T4FtjLGQZ",
        "colab": {
          "base_uri": "https://localhost:8080/"
        },
        "outputId": "f40da6bd-7631-45e3-8e2b-c2bbb397bdd3"
      },
      "source": [
        "# Code ici\n",
        "arr = np.arange(9).reshape(3,3)\n",
        "arr"
      ],
      "execution_count": null,
      "outputs": [
        {
          "output_type": "execute_result",
          "data": {
            "text/plain": [
              "array([[0, 1, 2],\n",
              "       [3, 4, 5],\n",
              "       [6, 7, 8]])"
            ]
          },
          "metadata": {},
          "execution_count": 9
        }
      ]
    },
    {
      "cell_type": "code",
      "metadata": {
        "id": "5wR2T8yTLG4h",
        "colab": {
          "base_uri": "https://localhost:8080/",
          "height": 70
        },
        "outputId": "f3bbe39d-88a5-4455-a1dc-6f281d042f9f"
      },
      "source": [
        "# Ne rien écrire ici"
      ],
      "execution_count": null,
      "outputs": [
        {
          "output_type": "execute_result",
          "data": {
            "text/plain": [
              "array([[0, 1, 2],\n",
              "       [3, 4, 5],\n",
              "       [6, 7, 8]])"
            ]
          },
          "metadata": {
            "tags": []
          },
          "execution_count": 13
        }
      ]
    },
    {
      "cell_type": "markdown",
      "metadata": {
        "id": "M1ccqjx9LH5w"
      },
      "source": [
        "#### 8. Créer une matrice identité 3x3"
      ]
    },
    {
      "cell_type": "code",
      "metadata": {
        "id": "qUU8L810LHTR",
        "colab": {
          "base_uri": "https://localhost:8080/"
        },
        "outputId": "1c795828-752a-4450-a1c9-92e13ab06b2b"
      },
      "source": [
        "# Code ici\n",
        "arr = np.eye(3)\n",
        "arr"
      ],
      "execution_count": null,
      "outputs": [
        {
          "output_type": "execute_result",
          "data": {
            "text/plain": [
              "array([[1., 0., 0.],\n",
              "       [0., 1., 0.],\n",
              "       [0., 0., 1.]])"
            ]
          },
          "metadata": {},
          "execution_count": 10
        }
      ]
    },
    {
      "cell_type": "code",
      "metadata": {
        "id": "OZJJrYmdLTJa",
        "colab": {
          "base_uri": "https://localhost:8080/",
          "height": 70
        },
        "outputId": "6ed22140-4221-44cc-f6b6-038c7f2c18d2"
      },
      "source": [
        "# Ne rien écrire ici"
      ],
      "execution_count": null,
      "outputs": [
        {
          "output_type": "execute_result",
          "data": {
            "text/plain": [
              "array([[1., 0., 0.],\n",
              "       [0., 1., 0.],\n",
              "       [0., 0., 1.]])"
            ]
          },
          "metadata": {
            "tags": []
          },
          "execution_count": 15
        }
      ]
    },
    {
      "cell_type": "markdown",
      "metadata": {
        "id": "EmV2XR5kLTXH"
      },
      "source": [
        "#### 9. Utiliser NumPy pour générer un nombre aléatoire entre 0 et 1\n",
        "NOTE : La valeur de votre résultat doit être différente de celle indiquée ci-dessous."
      ]
    },
    {
      "cell_type": "code",
      "metadata": {
        "id": "9Gkx2SSBLXKS",
        "colab": {
          "base_uri": "https://localhost:8080/"
        },
        "outputId": "5c0a2164-f2de-4dca-b220-7069853120b1"
      },
      "source": [
        "# Code ici\n",
        "arr = np.random.rand(1)\n",
        "arr"
      ],
      "execution_count": null,
      "outputs": [
        {
          "output_type": "execute_result",
          "data": {
            "text/plain": [
              "array([0.37103147])"
            ]
          },
          "metadata": {},
          "execution_count": 11
        }
      ]
    },
    {
      "cell_type": "code",
      "metadata": {
        "id": "LHjVBfAVLbDs",
        "colab": {
          "base_uri": "https://localhost:8080/",
          "height": 34
        },
        "outputId": "5a29fa75-1072-4fcf-c205-97c34cac1b2a"
      },
      "source": [
        "# Ne rien écrire ici"
      ],
      "execution_count": null,
      "outputs": [
        {
          "output_type": "execute_result",
          "data": {
            "text/plain": [
              "array([0.10775124])"
            ]
          },
          "metadata": {
            "tags": []
          },
          "execution_count": 17
        }
      ]
    },
    {
      "cell_type": "markdown",
      "metadata": {
        "id": "xYYsQqaWLbOj"
      },
      "source": [
        "#### 10. Utiliser NumPy pour générer un tableau de 25 nombres aléatoires échantillonnés à partir d'une distribution normale standard\n",
        "NOTE : Les valeurs de votre résultat doivent être différentes de celles indiquées ci-dessous."
      ]
    },
    {
      "cell_type": "code",
      "metadata": {
        "id": "e_zZx6S1Lekn",
        "colab": {
          "base_uri": "https://localhost:8080/"
        },
        "outputId": "25bb6058-5d96-41ba-ea7c-25b6e6145eb4"
      },
      "source": [
        "# Code ici\n",
        "arr = np.random.randn(25)\n",
        "arr"
      ],
      "execution_count": null,
      "outputs": [
        {
          "output_type": "execute_result",
          "data": {
            "text/plain": [
              "array([-0.23470606,  0.21780507, -0.06285489,  0.95105449, -1.64839213,\n",
              "        0.24899249,  1.41467928, -0.52611204,  0.63160661,  0.14071542,\n",
              "        0.39082905, -0.4541648 ,  0.87106076, -0.82375251, -0.58304967,\n",
              "       -0.8056819 , -0.54592712,  0.29809299, -1.2916931 , -0.08952891,\n",
              "       -0.10025754,  0.37671282,  0.60976983,  0.12338892,  0.60716351])"
            ]
          },
          "metadata": {},
          "execution_count": 12
        }
      ]
    },
    {
      "cell_type": "code",
      "metadata": {
        "id": "Pgd63q_PLkAi",
        "colab": {
          "base_uri": "https://localhost:8080/",
          "height": 105
        },
        "outputId": "f3a86e5e-f8da-4a1f-f9a8-762c7bd4fe60"
      },
      "source": [
        "# Ne rien écrire ici"
      ],
      "execution_count": null,
      "outputs": [
        {
          "output_type": "execute_result",
          "data": {
            "text/plain": [
              "array([ 0.98191795,  0.11015843,  1.14926955,  0.84784287,  0.7212745 ,\n",
              "        0.26564431,  0.02445377, -0.85878697,  0.66952072, -0.48454133,\n",
              "        0.07564346,  1.08963205, -0.10492075,  1.6678985 , -1.01509052,\n",
              "        0.08806938, -0.11293401, -0.5444564 , -0.76051702, -1.04008647,\n",
              "       -0.72605723,  0.23374034,  0.24055805, -0.86450581, -1.17211855])"
            ]
          },
          "metadata": {
            "tags": []
          },
          "execution_count": 19
        }
      ]
    },
    {
      "cell_type": "markdown",
      "metadata": {
        "id": "I3qf9GTALkMq"
      },
      "source": [
        "#### 11. Créer la matrice suivante :"
      ]
    },
    {
      "cell_type": "code",
      "metadata": {
        "id": "Ej_E9IJiLp5j",
        "colab": {
          "base_uri": "https://localhost:8080/"
        },
        "outputId": "61c641a0-ea53-4e10-970c-da0420c5d31b"
      },
      "source": [
        "# Code ici\n",
        "arr = np.arange(1,101).reshape(10,10) / 100\n",
        "arr"
      ],
      "execution_count": null,
      "outputs": [
        {
          "output_type": "execute_result",
          "data": {
            "text/plain": [
              "array([[0.01, 0.02, 0.03, 0.04, 0.05, 0.06, 0.07, 0.08, 0.09, 0.1 ],\n",
              "       [0.11, 0.12, 0.13, 0.14, 0.15, 0.16, 0.17, 0.18, 0.19, 0.2 ],\n",
              "       [0.21, 0.22, 0.23, 0.24, 0.25, 0.26, 0.27, 0.28, 0.29, 0.3 ],\n",
              "       [0.31, 0.32, 0.33, 0.34, 0.35, 0.36, 0.37, 0.38, 0.39, 0.4 ],\n",
              "       [0.41, 0.42, 0.43, 0.44, 0.45, 0.46, 0.47, 0.48, 0.49, 0.5 ],\n",
              "       [0.51, 0.52, 0.53, 0.54, 0.55, 0.56, 0.57, 0.58, 0.59, 0.6 ],\n",
              "       [0.61, 0.62, 0.63, 0.64, 0.65, 0.66, 0.67, 0.68, 0.69, 0.7 ],\n",
              "       [0.71, 0.72, 0.73, 0.74, 0.75, 0.76, 0.77, 0.78, 0.79, 0.8 ],\n",
              "       [0.81, 0.82, 0.83, 0.84, 0.85, 0.86, 0.87, 0.88, 0.89, 0.9 ],\n",
              "       [0.91, 0.92, 0.93, 0.94, 0.95, 0.96, 0.97, 0.98, 0.99, 1.  ]])"
            ]
          },
          "metadata": {},
          "execution_count": 13
        }
      ]
    },
    {
      "cell_type": "code",
      "metadata": {
        "id": "U9f0WjWvL0kh",
        "colab": {
          "base_uri": "https://localhost:8080/",
          "height": 194
        },
        "outputId": "cb4c452b-1b5b-4542-ef3c-dcbb1bef93da"
      },
      "source": [
        "# Ne rien écrire ici"
      ],
      "execution_count": null,
      "outputs": [
        {
          "output_type": "execute_result",
          "data": {
            "text/plain": [
              "array([[0.01, 0.02, 0.03, 0.04, 0.05, 0.06, 0.07, 0.08, 0.09, 0.1 ],\n",
              "       [0.11, 0.12, 0.13, 0.14, 0.15, 0.16, 0.17, 0.18, 0.19, 0.2 ],\n",
              "       [0.21, 0.22, 0.23, 0.24, 0.25, 0.26, 0.27, 0.28, 0.29, 0.3 ],\n",
              "       [0.31, 0.32, 0.33, 0.34, 0.35, 0.36, 0.37, 0.38, 0.39, 0.4 ],\n",
              "       [0.41, 0.42, 0.43, 0.44, 0.45, 0.46, 0.47, 0.48, 0.49, 0.5 ],\n",
              "       [0.51, 0.52, 0.53, 0.54, 0.55, 0.56, 0.57, 0.58, 0.59, 0.6 ],\n",
              "       [0.61, 0.62, 0.63, 0.64, 0.65, 0.66, 0.67, 0.68, 0.69, 0.7 ],\n",
              "       [0.71, 0.72, 0.73, 0.74, 0.75, 0.76, 0.77, 0.78, 0.79, 0.8 ],\n",
              "       [0.81, 0.82, 0.83, 0.84, 0.85, 0.86, 0.87, 0.88, 0.89, 0.9 ],\n",
              "       [0.91, 0.92, 0.93, 0.94, 0.95, 0.96, 0.97, 0.98, 0.99, 1.  ]])"
            ]
          },
          "metadata": {
            "tags": []
          },
          "execution_count": 21
        }
      ]
    },
    {
      "cell_type": "markdown",
      "metadata": {
        "id": "ECXu4aUUL0tr"
      },
      "source": [
        "#### 12. Créer un tableau de 20 points espacés linéairement entre 0 et 1 :"
      ]
    },
    {
      "cell_type": "code",
      "metadata": {
        "id": "bPUb7X-3L4HD",
        "colab": {
          "base_uri": "https://localhost:8080/"
        },
        "outputId": "4f4adf84-c76c-4ed6-d4b6-3490d7e49179"
      },
      "source": [
        "# Code ici\n",
        "arr = np.linspace(0,1,20)\n",
        "arr"
      ],
      "execution_count": null,
      "outputs": [
        {
          "output_type": "execute_result",
          "data": {
            "text/plain": [
              "array([0.        , 0.05263158, 0.10526316, 0.15789474, 0.21052632,\n",
              "       0.26315789, 0.31578947, 0.36842105, 0.42105263, 0.47368421,\n",
              "       0.52631579, 0.57894737, 0.63157895, 0.68421053, 0.73684211,\n",
              "       0.78947368, 0.84210526, 0.89473684, 0.94736842, 1.        ])"
            ]
          },
          "metadata": {},
          "execution_count": 14
        }
      ]
    },
    {
      "cell_type": "code",
      "metadata": {
        "id": "Lq3E34dUL5es",
        "colab": {
          "base_uri": "https://localhost:8080/",
          "height": 87
        },
        "outputId": "7d2ec07f-5c93-414c-95ab-5fc80b8b3b29"
      },
      "source": [
        "# Ne rien écrire ici"
      ],
      "execution_count": null,
      "outputs": [
        {
          "output_type": "execute_result",
          "data": {
            "text/plain": [
              "array([0.        , 0.05263158, 0.10526316, 0.15789474, 0.21052632,\n",
              "       0.26315789, 0.31578947, 0.36842105, 0.42105263, 0.47368421,\n",
              "       0.52631579, 0.57894737, 0.63157895, 0.68421053, 0.73684211,\n",
              "       0.78947368, 0.84210526, 0.89473684, 0.94736842, 1.        ])"
            ]
          },
          "metadata": {
            "tags": []
          },
          "execution_count": 23
        }
      ]
    },
    {
      "cell_type": "markdown",
      "metadata": {
        "id": "XvDvqti0L5sL"
      },
      "source": [
        "## Indexation et sélection NumPy\n",
        "\n",
        "Pour une matrice donnée de départ (n'oubliez pas de lancer la cellule ci-dessous !),vous aurez à reproduire les résultats de la matrice résultante :"
      ]
    },
    {
      "cell_type": "code",
      "metadata": {
        "id": "5JtElcNhMHAS",
        "colab": {
          "base_uri": "https://localhost:8080/"
        },
        "outputId": "094d83cb-ade5-4b55-f675-dab7ed5642a4"
      },
      "source": [
        "# EXECUTER CETTE CELLULE - C'EST NOTRE MATRICE DE DÉPART\n",
        "mat = np.arange(1,26).reshape(5,5)\n",
        "mat"
      ],
      "execution_count": null,
      "outputs": [
        {
          "output_type": "execute_result",
          "data": {
            "text/plain": [
              "array([[ 1,  2,  3,  4,  5],\n",
              "       [ 6,  7,  8,  9, 10],\n",
              "       [11, 12, 13, 14, 15],\n",
              "       [16, 17, 18, 19, 20],\n",
              "       [21, 22, 23, 24, 25]])"
            ]
          },
          "metadata": {},
          "execution_count": 29
        }
      ]
    },
    {
      "cell_type": "markdown",
      "metadata": {
        "id": "vfDFqP96MVAA"
      },
      "source": [
        "#### 13. Écrivez un code qui reproduit la sortie indiquée ci-dessous.\n",
        "Attention de ne pas exécuter la cellule immédiatement au-dessus de la sortie, sinon vous ne pourrez plus voir celle-ci."
      ]
    },
    {
      "cell_type": "code",
      "metadata": {
        "id": "0AXgXMQFMhrP",
        "colab": {
          "base_uri": "https://localhost:8080/"
        },
        "outputId": "c6370e0a-e413-438b-f5ee-3ee50ff9a823"
      },
      "source": [
        "# Code ici\n",
        "mat[2:,1:]"
      ],
      "execution_count": null,
      "outputs": [
        {
          "output_type": "execute_result",
          "data": {
            "text/plain": [
              "array([[12, 13, 14, 15],\n",
              "       [17, 18, 19, 20],\n",
              "       [22, 23, 24, 25]])"
            ]
          },
          "metadata": {},
          "execution_count": 25
        }
      ]
    },
    {
      "cell_type": "code",
      "metadata": {
        "id": "4gZF-T7JMNUH",
        "colab": {
          "base_uri": "https://localhost:8080/",
          "height": 70
        },
        "outputId": "1799b677-9ab3-4d5b-b038-b5c1fd4222c7"
      },
      "source": [
        "# Ne rien écrire ici"
      ],
      "execution_count": null,
      "outputs": [
        {
          "output_type": "execute_result",
          "data": {
            "text/plain": [
              "array([[12, 13, 14, 15],\n",
              "       [17, 18, 19, 20],\n",
              "       [22, 23, 24, 25]])"
            ]
          },
          "metadata": {
            "tags": []
          },
          "execution_count": 26
        }
      ]
    },
    {
      "cell_type": "markdown",
      "metadata": {
        "id": "MDsU-m0uMiDK"
      },
      "source": [
        "#### 14. Ecrivez un code qui reproduit le résultat indiqué ci-dessous."
      ]
    },
    {
      "cell_type": "code",
      "metadata": {
        "id": "QsU6PyOZMjUx",
        "colab": {
          "base_uri": "https://localhost:8080/"
        },
        "outputId": "a09d4a3e-4d1d-45ac-878d-42f29aad7ae8"
      },
      "source": [
        "# Code ici\n",
        "mat[3,4]"
      ],
      "execution_count": null,
      "outputs": [
        {
          "output_type": "execute_result",
          "data": {
            "text/plain": [
              "20"
            ]
          },
          "metadata": {},
          "execution_count": 27
        }
      ]
    },
    {
      "cell_type": "code",
      "metadata": {
        "id": "GpU2pCJXMl0t",
        "colab": {
          "base_uri": "https://localhost:8080/",
          "height": 34
        },
        "outputId": "7c769dc8-629b-4168-8bd3-ed9bb2d06fd1"
      },
      "source": [
        "# Ne rien écrire ici"
      ],
      "execution_count": null,
      "outputs": [
        {
          "output_type": "execute_result",
          "data": {
            "text/plain": [
              "20"
            ]
          },
          "metadata": {
            "tags": []
          },
          "execution_count": 28
        }
      ]
    },
    {
      "cell_type": "markdown",
      "metadata": {
        "id": "1mjbm-uuMmEh"
      },
      "source": [
        "#### 15. Ecrivez un code qui reproduit le résultat indiqué ci-dessous."
      ]
    },
    {
      "cell_type": "code",
      "metadata": {
        "id": "o2xdUmx_Mm25",
        "colab": {
          "base_uri": "https://localhost:8080/"
        },
        "outputId": "01c42687-1dcf-4c65-9434-c076acc5aa61"
      },
      "source": [
        "# Code ici\n",
        "mat[:3,1:2]"
      ],
      "execution_count": null,
      "outputs": [
        {
          "output_type": "execute_result",
          "data": {
            "text/plain": [
              "array([[ 2],\n",
              "       [ 7],\n",
              "       [12]])"
            ]
          },
          "metadata": {},
          "execution_count": 28
        }
      ]
    },
    {
      "cell_type": "code",
      "metadata": {
        "id": "4rTLepxoMnQH",
        "colab": {
          "base_uri": "https://localhost:8080/",
          "height": 70
        },
        "outputId": "0aea8c7a-e8f4-4d3c-a902-a39cb4d10896"
      },
      "source": [
        "# Ne rien écrire ici"
      ],
      "execution_count": null,
      "outputs": [
        {
          "output_type": "execute_result",
          "data": {
            "text/plain": [
              "array([[ 2],\n",
              "       [ 7],\n",
              "       [12]])"
            ]
          },
          "metadata": {
            "tags": []
          },
          "execution_count": 30
        }
      ]
    },
    {
      "cell_type": "markdown",
      "metadata": {
        "id": "2j9iGsQ6Mna0"
      },
      "source": [
        "#### 16. Ecrivez un code qui reproduit le résultat indiqué ci-dessous."
      ]
    },
    {
      "cell_type": "code",
      "metadata": {
        "id": "0cq8fIzKMoP1",
        "colab": {
          "base_uri": "https://localhost:8080/"
        },
        "outputId": "ced7027d-480c-4ecc-83ba-e9193ad7a18f"
      },
      "source": [
        "# Code ici\n",
        "mat[4,:]"
      ],
      "execution_count": null,
      "outputs": [
        {
          "output_type": "execute_result",
          "data": {
            "text/plain": [
              "array([21, 22, 23, 24, 25])"
            ]
          },
          "metadata": {},
          "execution_count": 30
        }
      ]
    },
    {
      "cell_type": "code",
      "metadata": {
        "id": "gj8JGrUCMooN",
        "colab": {
          "base_uri": "https://localhost:8080/",
          "height": 34
        },
        "outputId": "dd73d2b0-aaf1-4dae-ae70-5613ea5794d4"
      },
      "source": [
        "# Ne rien écrire ici"
      ],
      "execution_count": null,
      "outputs": [
        {
          "output_type": "execute_result",
          "data": {
            "text/plain": [
              "array([21, 22, 23, 24, 25])"
            ]
          },
          "metadata": {
            "tags": []
          },
          "execution_count": 32
        }
      ]
    },
    {
      "cell_type": "markdown",
      "metadata": {
        "id": "NqUKx9K3Mow9"
      },
      "source": [
        "#### 17. Ecrivez un code qui reproduit le résultat indiqué ci-dessous."
      ]
    },
    {
      "cell_type": "code",
      "metadata": {
        "id": "qN8EadK9Mp_d",
        "colab": {
          "base_uri": "https://localhost:8080/"
        },
        "outputId": "292d7c98-f3e2-4a93-f2dc-74f45bf2a254"
      },
      "source": [
        "# Code ici\n",
        "mat[3:5,:]"
      ],
      "execution_count": null,
      "outputs": [
        {
          "output_type": "execute_result",
          "data": {
            "text/plain": [
              "array([[16, 17, 18, 19, 20],\n",
              "       [21, 22, 23, 24, 25]])"
            ]
          },
          "metadata": {},
          "execution_count": 31
        }
      ]
    },
    {
      "cell_type": "code",
      "metadata": {
        "id": "IRQkLuXYMqw7",
        "colab": {
          "base_uri": "https://localhost:8080/",
          "height": 52
        },
        "outputId": "4287510b-13c1-4aa9-e30d-b9c79166916f"
      },
      "source": [
        "# Ne rien écrire ici"
      ],
      "execution_count": null,
      "outputs": [
        {
          "output_type": "execute_result",
          "data": {
            "text/plain": [
              "array([[16, 17, 18, 19, 20],\n",
              "       [21, 22, 23, 24, 25]])"
            ]
          },
          "metadata": {
            "tags": []
          },
          "execution_count": 34
        }
      ]
    },
    {
      "cell_type": "markdown",
      "metadata": {
        "id": "-9ouCVQPMtMK"
      },
      "source": [
        "## Opérations NumPy"
      ]
    },
    {
      "cell_type": "markdown",
      "metadata": {
        "id": "VzN_eStjM1Zv"
      },
      "source": [
        "18. Obtenir la somme de toutes les valeurs de la matrice mat\n"
      ]
    },
    {
      "cell_type": "code",
      "metadata": {
        "id": "e4nwlSN2MtiP",
        "colab": {
          "base_uri": "https://localhost:8080/"
        },
        "outputId": "f77dceaa-4002-4bd0-8b6f-966b3b9b1027"
      },
      "source": [
        "# Code ici\n",
        "mat.sum()"
      ],
      "execution_count": null,
      "outputs": [
        {
          "output_type": "execute_result",
          "data": {
            "text/plain": [
              "325"
            ]
          },
          "metadata": {},
          "execution_count": 32
        }
      ]
    },
    {
      "cell_type": "code",
      "metadata": {
        "id": "bNWp8CMzM4NZ",
        "colab": {
          "base_uri": "https://localhost:8080/",
          "height": 34
        },
        "outputId": "ac2ba969-3527-4fec-871c-452238343c8c"
      },
      "source": [
        "# Ne rien écrire ici"
      ],
      "execution_count": null,
      "outputs": [
        {
          "output_type": "execute_result",
          "data": {
            "text/plain": [
              "325"
            ]
          },
          "metadata": {
            "tags": []
          },
          "execution_count": 36
        }
      ]
    },
    {
      "cell_type": "markdown",
      "metadata": {
        "id": "KTKhI1KHM4W6"
      },
      "source": [
        "#### 19. Obtenir l'écart type des valeurs de la matrice mat"
      ]
    },
    {
      "cell_type": "code",
      "metadata": {
        "id": "1kJ_aT7DM-97",
        "colab": {
          "base_uri": "https://localhost:8080/"
        },
        "outputId": "17ef5562-ba0f-4c7b-a8f3-e784cfdfdd3e"
      },
      "source": [
        "# Code ici\n",
        "mat.std()"
      ],
      "execution_count": null,
      "outputs": [
        {
          "output_type": "execute_result",
          "data": {
            "text/plain": [
              "7.211102550927978"
            ]
          },
          "metadata": {},
          "execution_count": 34
        }
      ]
    },
    {
      "cell_type": "code",
      "metadata": {
        "id": "YEeYBSCvNGy2",
        "colab": {
          "base_uri": "https://localhost:8080/",
          "height": 34
        },
        "outputId": "53cee1d1-d491-430a-b438-446858daef62"
      },
      "source": [
        "# Ne rien écrire ici"
      ],
      "execution_count": null,
      "outputs": [
        {
          "output_type": "execute_result",
          "data": {
            "text/plain": [
              "7.211102550927978"
            ]
          },
          "metadata": {
            "tags": []
          },
          "execution_count": 38
        }
      ]
    },
    {
      "cell_type": "markdown",
      "metadata": {
        "id": "D3ubsh4VNG7Q"
      },
      "source": [
        "#### 20. Obtenir la somme de toutes les colonnes de la matrice mat"
      ]
    },
    {
      "cell_type": "code",
      "metadata": {
        "id": "LGFvjzJmPpFm",
        "colab": {
          "base_uri": "https://localhost:8080/"
        },
        "outputId": "018c1617-b45a-48ba-a45b-f4303023770c"
      },
      "source": [
        "# Code ici\n",
        "mat.sum(axis=0)"
      ],
      "execution_count": null,
      "outputs": [
        {
          "output_type": "execute_result",
          "data": {
            "text/plain": [
              "array([55, 60, 65, 70, 75])"
            ]
          },
          "metadata": {},
          "execution_count": 35
        }
      ]
    },
    {
      "cell_type": "code",
      "metadata": {
        "id": "C4s-7y7VNJwU",
        "colab": {
          "base_uri": "https://localhost:8080/",
          "height": 34
        },
        "outputId": "b028e1e5-a375-4742-b914-2be1e39d0bd9"
      },
      "source": [
        "# Ne rien écrire ici"
      ],
      "execution_count": null,
      "outputs": [
        {
          "output_type": "execute_result",
          "data": {
            "text/plain": [
              "array([55, 60, 65, 70, 75])"
            ]
          },
          "metadata": {
            "tags": []
          },
          "execution_count": 40
        }
      ]
    },
    {
      "cell_type": "markdown",
      "metadata": {
        "id": "ydJx7oTTNKCF"
      },
      "source": [
        "## Question bonus\n",
        "Nous avons beaucoup travaillé avec des données aléatoires avec NumPy, mais y a-t-il un moyen de s'assurer que nous obtenions toujours les mêmes nombres aléatoires ? Que signifie la valeur de seed ? Le nombre choisi est-il important ? [Cliquez ici pour un indice](https://www.google.com/search?q=numpy+random+seed)"
      ]
    },
    {
      "cell_type": "code",
      "metadata": {
        "id": "mwvWMj2kNRTd",
        "colab": {
          "base_uri": "https://localhost:8080/"
        },
        "outputId": "a55b02d7-bba4-4fc5-e222-eb4f983f1515"
      },
      "source": [
        "np.random.seed(101)\n",
        "np.random.rand(5)"
      ],
      "execution_count": null,
      "outputs": [
        {
          "output_type": "execute_result",
          "data": {
            "text/plain": [
              "array([0.51639863, 0.57066759, 0.02847423, 0.17152166, 0.68527698])"
            ]
          },
          "metadata": {},
          "execution_count": 39
        }
      ]
    },
    {
      "cell_type": "markdown",
      "metadata": {
        "id": "DWi60kvPNUPo"
      },
      "source": [
        "Bon courage !"
      ]
    }
  ]
}